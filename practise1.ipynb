{
  "nbformat": 4,
  "nbformat_minor": 0,
  "metadata": {
    "colab": {
      "name": "practise1.ipynb",
      "provenance": [],
      "authorship_tag": "ABX9TyNm7AqMIuvyyPH2AvORf4PJ",
      "include_colab_link": true
    },
    "kernelspec": {
      "name": "python3",
      "display_name": "Python 3"
    }
  },
  "cells": [
    {
      "cell_type": "markdown",
      "metadata": {
        "id": "view-in-github",
        "colab_type": "text"
      },
      "source": [
        "<a href=\"https://colab.research.google.com/github/aiden213/Deep-Learning/blob/master/practise1.ipynb\" target=\"_parent\"><img src=\"https://colab.research.google.com/assets/colab-badge.svg\" alt=\"Open In Colab\"/></a>"
      ]
    },
    {
      "cell_type": "code",
      "metadata": {
        "id": "VHCX6d0gTNes",
        "colab_type": "code",
        "colab": {
          "base_uri": "https://localhost:8080/",
          "height": 105
        },
        "outputId": "dafd3645-a149-49de-b15b-1cf92b7de603"
      },
      "source": [
        "import tensorflow as tf\n",
        "\n",
        "X = tf.constant([[1.0, 2.0, 3.0], [4.0, 5.0, 6.0]])\n",
        "y = tf.constant([[10.0], [20.0]])\n",
        "\n",
        "\n",
        "class Linear(tf.keras.Model):\n",
        "    def __init__(self):\n",
        "        super().__init__()\n",
        "        self.dense = tf.keras.layers.Dense(\n",
        "            units=1,\n",
        "            activation=None,\n",
        "            kernel_initializer=tf.zeros_initializer(),\n",
        "            bias_initializer=tf.zeros_initializer()\n",
        "        )\n",
        "\n",
        "    def call(self, input):\n",
        "        output = self.dense(input)\n",
        "        return output\n",
        "\n",
        "\n",
        "# 以下代码结构与前节类似\n",
        "model = Linear()\n",
        "optimizer = tf.keras.optimizers.SGD(learning_rate=0.01)\n",
        "for i in range(100):\n",
        "    with tf.GradientTape() as tape:\n",
        "        y_pred = model(X)      # 调用模型 y_pred = model(X) 而不是显式写出 y_pred = a * X + b\n",
        "        loss = tf.reduce_mean(tf.square(y_pred - y))\n",
        "    grads = tape.gradient(loss, model.variables)    # 使用 model.variables 这一属性直接获得模型中的所有变量\n",
        "    optimizer.apply_gradients(grads_and_vars=zip(grads, model.variables))\n",
        "print(model.variables)"
      ],
      "execution_count": 1,
      "outputs": [
        {
          "output_type": "stream",
          "text": [
            "[<tf.Variable 'linear/dense/kernel:0' shape=(3, 1) dtype=float32, numpy=\n",
            "array([[0.40784457],\n",
            "       [1.1910652 ],\n",
            "       [1.9742857 ]], dtype=float32)>, <tf.Variable 'linear/dense/bias:0' shape=(1,) dtype=float32, numpy=array([0.78322065], dtype=float32)>]\n"
          ],
          "name": "stdout"
        }
      ]
    }
  ]
}